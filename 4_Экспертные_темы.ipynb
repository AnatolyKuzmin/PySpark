{
 "cells": [
  {
   "cell_type": "markdown",
   "id": "c8c894e5",
   "metadata": {},
   "source": [
    "# 4. Экспертные темы"
   ]
  },
  {
   "cell_type": "markdown",
   "id": "242a9f2f",
   "metadata": {},
   "source": [
    "## 4.1. Delta Lake"
   ]
  },
  {
   "cell_type": "markdown",
   "id": "d90baba3",
   "metadata": {},
   "source": [
    "## 4.2. MLlib (машинное обучение)"
   ]
  },
  {
   "cell_type": "markdown",
   "id": "19516a91",
   "metadata": {},
   "source": [
    "## 4.3. Распределенная обработка (Glue, EMR)"
   ]
  },
  {
   "cell_type": "markdown",
   "id": "0bb31e6d",
   "metadata": {},
   "source": [
    "## 4.4. Отладка и логирование  "
   ]
  }
 ],
 "metadata": {
  "language_info": {
   "name": "python"
  }
 },
 "nbformat": 4,
 "nbformat_minor": 5
}
