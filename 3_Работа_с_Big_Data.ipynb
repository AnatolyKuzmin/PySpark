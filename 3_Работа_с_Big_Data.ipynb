{
 "cells": [
  {
   "cell_type": "markdown",
   "id": "78e6ee05-e059-483a-b852-1906627036a6",
   "metadata": {},
   "source": [
    "# 3. Работа с Big Data"
   ]
  },
  {
   "cell_type": "markdown",
   "id": "9ba58bc2-63a0-47f3-9b0b-57068a6056c7",
   "metadata": {
    "vscode": {
     "languageId": "plaintext"
    }
   },
   "source": [
    "## 3.1. Spark SQL (каталог, метаданные)"
   ]
  },
  {
   "cell_type": "markdown",
   "id": "45ce2e8b-a799-4591-a1d4-c176dd1e9b5c",
   "metadata": {},
   "source": [
    "Каталог (Catalog) — это абстракция в Spark SQL, которая предоставляет API для:\n",
    "- Управления базами данных (databases)\n",
    "- Работы с таблицами (tables)\n",
    "- Доступа к представлениям (views)\n",
    "- Хранения метаданных (схем, типов данных, партиций)"
   ]
  },
  {
   "cell_type": "markdown",
   "id": "4fb18116-56e7-41d1-ac98-ca4854eeeb79",
   "metadata": {},
   "source": [
    "Встроенный каталог vs Hive Metastore\n",
    "| Особенность | Встроенный каталог | Hive Metastore |\n",
    "|- |- |- |\n",
    "| Где хранятся метаданные? | В памяти (исчезают после завершения сессии) | Во внешней БД (MySQL, PostgreSQL) |\n",
    "| Когда использовать? | Для временных таблиц | Для постоянных таблиц в продакшене |\n",
    "| Доступ из других приложений | Нет| Да (через Hive, Impala и др.) |"
   ]
  },
  {
   "cell_type": "code",
   "execution_count": null,
   "id": "7336ec96-7a3d-4547-80cb-7530ec6384f4",
   "metadata": {},
   "outputs": [],
   "source": []
  },
  {
   "cell_type": "code",
   "execution_count": null,
   "id": "730a02c7-c4dd-489a-8d1a-5c928d216415",
   "metadata": {},
   "outputs": [],
   "source": []
  },
  {
   "cell_type": "code",
   "execution_count": null,
   "id": "45fd2685-a6fa-4f9d-825b-792671458506",
   "metadata": {},
   "outputs": [],
   "source": []
  },
  {
   "cell_type": "code",
   "execution_count": null,
   "id": "decce39a-382d-4417-a8f0-d38a41c94530",
   "metadata": {},
   "outputs": [],
   "source": []
  },
  {
   "cell_type": "code",
   "execution_count": null,
   "id": "68fb804c-0f59-4c70-bc58-e4da8c79a3bb",
   "metadata": {},
   "outputs": [],
   "source": []
  },
  {
   "cell_type": "code",
   "execution_count": null,
   "id": "f647fa0f-3a6c-49e9-8740-8b8ad027782e",
   "metadata": {},
   "outputs": [],
   "source": []
  },
  {
   "cell_type": "code",
   "execution_count": null,
   "id": "1845d94e-9abd-4beb-977c-6a0bf2e16f8e",
   "metadata": {},
   "outputs": [],
   "source": []
  },
  {
   "cell_type": "code",
   "execution_count": null,
   "id": "cc8094ed-82e3-49ee-b542-257a31fa8d9b",
   "metadata": {},
   "outputs": [],
   "source": []
  },
  {
   "cell_type": "code",
   "execution_count": null,
   "id": "417c366e-61f2-4237-a0d7-e232473698ea",
   "metadata": {},
   "outputs": [],
   "source": []
  },
  {
   "cell_type": "code",
   "execution_count": null,
   "id": "238e5908-ddfb-4278-bd72-4279810b1bb5",
   "metadata": {},
   "outputs": [],
   "source": []
  },
  {
   "cell_type": "markdown",
   "id": "bbe87172-f728-4f1d-bc6f-2591081d0c94",
   "metadata": {
    "vscode": {
     "languageId": "plaintext"
    }
   },
   "source": [
    "## 3.2. Structured Streaming (основы)"
   ]
  },
  {
   "cell_type": "markdown",
   "id": "b6c950a1-8374-4a6f-baf0-2c7438ec5b90",
   "metadata": {
    "vscode": {
     "languageId": "plaintext"
    }
   },
   "source": [
    "## 3.2. Structured Streaming (основы)"
   ]
  },
  {
   "cell_type": "markdown",
   "id": "562a56e6-1197-4a82-b536-bd27b2638be0",
   "metadata": {
    "vscode": {
     "languageId": "plaintext"
    }
   },
   "source": [
    "## 3.3. Оптимизация запросов (Explain, Tungsten)"
   ]
  },
  {
   "cell_type": "markdown",
   "id": "29166439-7e38-4af6-a0b7-d883fc302172",
   "metadata": {
    "vscode": {
     "languageId": "plaintext"
    }
   },
   "source": [
    "## 3.4. Работа с GraphFrames"
   ]
  },
  {
   "cell_type": "markdown",
   "id": "f8e0ca09-595b-4c44-b6b6-433f30f384e7",
   "metadata": {
    "vscode": {
     "languageId": "plaintext"
    }
   },
   "source": [
    "## 3.5. Интеграция с Python (Pandas, NumPy)"
   ]
  }
 ],
 "metadata": {
  "kernelspec": {
   "display_name": "Python 3 (ipykernel)",
   "language": "python",
   "name": "python3"
  },
  "language_info": {
   "codemirror_mode": {
    "name": "ipython",
    "version": 3
   },
   "file_extension": ".py",
   "mimetype": "text/x-python",
   "name": "python",
   "nbconvert_exporter": "python",
   "pygments_lexer": "ipython3",
   "version": "3.11.9"
  }
 },
 "nbformat": 4,
 "nbformat_minor": 5
}
