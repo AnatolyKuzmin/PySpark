{
 "cells": [
  {
   "cell_type": "markdown",
   "id": "78e6ee05-e059-483a-b852-1906627036a6",
   "metadata": {},
   "source": [
    "# 3. Работа с Big Data"
   ]
  },
  {
   "cell_type": "code",
   "execution_count": 1,
   "id": "f7391b90-7358-4a3d-b1e3-53886385cbd2",
   "metadata": {},
   "outputs": [],
   "source": [
    "import os\n",
    "os.environ['PYSPARK_PYTHON'] = 'python'\n",
    "os.environ['HADOOP_USER_NAME'] = 'root'  # Обход проверки пользователя\n",
    "\n",
    "from pyspark.sql import SparkSession\n",
    "from pyspark.sql.functions import *\n",
    "\n",
    "spark = SparkSession.builder \\\n",
    "    .appName(\"Test\") \\\n",
    "    .master(\"local[*]\") \\\n",
    "    .config(\"spark.driver.host\", \"localhost\") \\\n",
    "    .config(\"spark.executor.memory\", \"2g\") \\\n",
    "    .getOrCreate()"
   ]
  },
  {
   "cell_type": "markdown",
   "id": "9ba58bc2-63a0-47f3-9b0b-57068a6056c7",
   "metadata": {
    "vscode": {
     "languageId": "plaintext"
    }
   },
   "source": [
    "## 3.1. Spark SQL (каталог, метаданные)"
   ]
  },
  {
   "cell_type": "markdown",
   "id": "45ce2e8b-a799-4591-a1d4-c176dd1e9b5c",
   "metadata": {},
   "source": [
    "Каталог (Catalog) — это абстракция в Spark SQL, которая предоставляет API для:\n",
    "- Управления базами данных (databases)\n",
    "- Работы с таблицами (tables)\n",
    "- Доступа к представлениям (views)\n",
    "- Хранения метаданных (схем, типов данных, партиций)"
   ]
  },
  {
   "cell_type": "markdown",
   "id": "4fb18116-56e7-41d1-ac98-ca4854eeeb79",
   "metadata": {},
   "source": [
    "Встроенный каталог vs Hive Metastore\n",
    "| Особенность | Встроенный каталог | Hive Metastore |\n",
    "|- |- |- |\n",
    "| Где хранятся метаданные? | В памяти (исчезают после завершения сессии) | Во внешней БД (MySQL, PostgreSQL) |\n",
    "| Когда использовать? | Для временных таблиц | Для постоянных таблиц в продакшене |\n",
    "| Доступ из других приложений | Нет| Да (через Hive, Impala и др.) |"
   ]
  },
  {
   "cell_type": "markdown",
   "id": "ff2b2d09-4b7e-4dad-bf76-71bca44ebe4f",
   "metadata": {},
   "source": [
    "Работа с каталогом через SparkSession"
   ]
  },
  {
   "cell_type": "markdown",
   "id": "e373ca66-f5db-4361-927b-d21f6d9f48cb",
   "metadata": {},
   "source": [
    "Показать все базы данных\n",
    "`spark.catalog.listDatabases()`  \n",
    "Показать все таблицы в текущей БД\n",
    "`spark.catalog.listTables()`  \n",
    "Показать все колонки таблицы\n",
    "`spark.catalog.listColumns(df_Titanic)`"
   ]
  },
  {
   "cell_type": "markdown",
   "id": "bf8cb221-2ad3-45d3-8094-06059477af2f",
   "metadata": {},
   "source": [
    "Создание и управление базами данных\n",
    "Создать новую БД\n",
    "`spark.sql(\"CREATE DATABASE IF NOT EXISTS my_db\")`  \n",
    "Переключиться на БД\n",
    "`spark.catalog.setCurrentDatabase(\"my_db\")`  \n",
    "Удалить БД (осторожно!)\n",
    "`spark.sql(\"DROP DATABASE IF EXISTS my_db CASCADE\")`"
   ]
  },
  {
   "cell_type": "markdown",
   "id": "3bb28f13-4a62-4492-9c56-b2913ede84d6",
   "metadata": {},
   "source": [
    "Временные vs постоянные таблицы\n",
    "\n",
    "| Тип | Временная таблица | Постоянная таблица |\n",
    "|- |- |- |\n",
    "| Видимость | Только в текущей сессии Spark | Доступна всем сессиям |\n",
    "| Хранение метаданных | В памяти | В Hive Metastore |\n",
    "| Хранение данных | Зависит от источника| Сохраняется на HDFS/S3 |"
   ]
  },
  {
   "cell_type": "markdown",
   "id": "b02d6285-2b9d-45f5-a8c9-6f90330e7287",
   "metadata": {},
   "source": [
    "Временная таблица (исчезнет после завершения сессии)\n",
    "`df.createOrReplaceTempView(\"temp_titanic\")`  \n",
    "Постоянная таблица (сохранится в каталоге Hive)\n",
    "`df.write.saveAsTable(\"perm_titanic\")`"
   ]
  },
  {
   "cell_type": "markdown",
   "id": "e01527e1-9d7c-44d6-a724-4b5103347e58",
   "metadata": {},
   "source": [
    "***VIEW*** — это виртуальная таблица (запрос не выполняется, пока не вызвана).\n",
    "***TABLE*** — материализованные данные."
   ]
  },
  {
   "cell_type": "markdown",
   "id": "db61725a-a830-43b6-b175-a9813bee8278",
   "metadata": {},
   "source": [
    "```\n",
    "# Временное представление\n",
    "spark.sql(\"\"\"\n",
    "    CREATE OR REPLACE TEMP VIEW adult_passengers AS\n",
    "    SELECT * FROM titanic WHERE Age >= 18\n",
    "\"\"\")\n",
    "\n",
    "# Постоянное представление (требует Hive)\n",
    "spark.sql(\"\"\"\n",
    "    CREATE OR REPLACE VIEW perm_adult_passengers AS\n",
    "    SELECT * FROM titanic WHERE Age >= 18\n",
    "\"\"\")\n",
    "```"
   ]
  },
  {
   "cell_type": "markdown",
   "id": "da3f0c5f-f664-4726-8a79-5034714e4b8a",
   "metadata": {},
   "source": [
    "Интеграция с Hive Metastore. Чтобы Spark мог работать с Hive Metastore, добавьте в spark-defaults.conf\n",
    "```\n",
    "spark.sql.catalogImplementation=hive\n",
    "spark.hadoop.hive.metastore.uris=thrift://metastore-host:9083\n",
    "```\n",
    "\n",
    "```\n",
    "# Чтение таблицы из Hive\n",
    "hive_df = spark.sql(\"SELECT * FROM hive_db.hive_table\")\n",
    "\n",
    "# Запись данных в Hive\n",
    "df.write.saveAsTable(\"hive_db.new_table\")\n",
    "```"
   ]
  },
  {
   "cell_type": "markdown",
   "id": "bbe87172-f728-4f1d-bc6f-2591081d0c94",
   "metadata": {
    "vscode": {
     "languageId": "plaintext"
    }
   },
   "source": [
    "## 3.2. Structured Streaming (основы)"
   ]
  },
  {
   "cell_type": "markdown",
   "id": "3011c4cd-cdff-4e64-87fe-3d0deda2112e",
   "metadata": {},
   "source": [
    "Structured Streaming — это масштабируемая и отказоустойчивая система потоковой обработки данных, построенная на движке Spark SQL.\n",
    "\n",
    "Принцип работы:\n",
    "- Бесконечный DataFrame: Потоковые данные представляются как \"бесконечно растущая\" таблица\n",
    "- Микропакетная обработка: Данные обрабатываются небольшими порциями (микропакетами)\n",
    "- Exactly-once семантика: Гарантируется однократная обработка каждого события\n",
    "\n",
    "**Источники**(Input) - Kafka, Файлы (CSV, Parquet), Сокеты (тестирование) и **приемники**(Output) - Консоль (debug), Файлы, Kafka, Базы данных (JDBC)\n"
   ]
  },
  {
   "cell_type": "markdown",
   "id": "c53265ce-aabd-430c-8f94-0b124f820a12",
   "metadata": {},
   "source": [
    "Создание потокового приложения. Чтение данных из сокета (для тестирования)"
   ]
  },
  {
   "cell_type": "markdown",
   "id": "bdce2cfd-4098-4d94-8ef3-b2659f28fa1b",
   "metadata": {},
   "source": [
    "```\n",
    "from pyspark.sql import SparkSession\n",
    "from pyspark.sql.functions import *\n",
    "\n",
    "spark = SparkSession.builder \\\n",
    "    .appName(\"StructuredStreaming\") \\\n",
    "    .master(\"local[*]\") \\\n",
    "    .getOrCreate()\n",
    "\n",
    "# Создаем потоковый DataFrame\n",
    "lines = spark \\\n",
    "    .readStream \\\n",
    "    .format(\"socket\") \\\n",
    "    .option(\"host\", \"localhost\") \\\n",
    "    .option(\"port\", 9999) \\\n",
    "    .load()\n",
    "\n",
    "# Простая трансформация - подсчет длины строк\n",
    "lengths = lines.select(length(col(\"value\")).alias(\"length\"))\n",
    "\n",
    "# Вывод в консоль\n",
    "query = lengths \\\n",
    "    .writeStream \\\n",
    "    .outputMode(\"append\") \\\n",
    "    .format(\"console\") \\\n",
    "    .start()\n",
    "\n",
    "query.awaitTermination()\n",
    "```\n",
    "Как запустить:\n",
    "- Откройте терминал и запустите Netcat: `nc -lk 9999`\n",
    "- Введите несколько строк текста\n",
    "- В консоли Spark появятся результаты обработки"
   ]
  },
  {
   "cell_type": "markdown",
   "id": "9bf61d40-f080-4f57-8c4b-f7c8ac249852",
   "metadata": {},
   "source": [
    "#### Обработка потоковых данных из файлов"
   ]
  },
  {
   "cell_type": "markdown",
   "id": "9ac1f706-3d62-4ad0-8cb1-8e2e455c4825",
   "metadata": {},
   "source": [
    "Мониторинг папки с новыми файлами\n",
    "```\n",
    "schema = StructType([\n",
    "    StructField(\"timestamp\", TimestampType(), True),\n",
    "    StructField(\"product\", StringType(), True),\n",
    "    StructField(\"price\", FloatType(), True)\n",
    "])\n",
    "\n",
    "stream_df = spark \\\n",
    "    .readStream \\\n",
    "    .schema(schema) \\\n",
    "    .option(\"maxFilesPerTrigger\", 1) \\  # Обрабатывать по 1 файлу за раз\n",
    "    .csv(\"path/to/input_folder\")\n",
    "\n",
    "# Агрегация по продуктам\n",
    "product_counts = stream_df.groupBy(\"product\").count()\n",
    "\n",
    "query = product_counts \\\n",
    "    .writeStream \\\n",
    "    .outputMode(\"complete\") \\\n",
    "    .format(\"console\") \\\n",
    "    .start()\n",
    "```\n",
    "\n",
    "**maxFilesPerTrigger** - контроль скорости обработки  \n",
    "**latestFirst** - обрабатывать сначала новые файлы  \n",
    "**cleanSource** - удалять обработанные файлы  "
   ]
  },
  {
   "cell_type": "markdown",
   "id": "0579849b-2719-4a33-aebd-f3eab49a27ce",
   "metadata": {},
   "source": [
    "#### Работа с временными окнами (Window Operations)"
   ]
  },
  {
   "cell_type": "markdown",
   "id": "24db51fc-63cf-4a3b-998a-d9b5343644ea",
   "metadata": {},
   "source": [
    "Агрегация по временным окнам\n",
    "\n",
    "```\n",
    "from pyspark.sql.functions import window\n",
    "\n",
    "windowed_counts = stream_df \\\n",
    "    .withWatermark(\"timestamp\", \"10 minutes\") \\  # Водяной знак\n",
    "    .groupBy(\n",
    "        window(\"timestamp\", \"5 minutes\"),  # Окно 5 минут\n",
    "        \"product\"\n",
    "    ) \\\n",
    "    .agg(avg(\"price\").alias(\"avg_price\"))\n",
    "\n",
    "query = windowed_counts \\\n",
    "    .writeStream \\\n",
    "    .outputMode(\"update\") \\\n",
    "    .format(\"console\") \\\n",
    "    .option(\"truncate\", \"false\") \\\n",
    "    .start()\n",
    "```\n",
    "\n",
    "Водяной знак (Watermark): Позволяет обрабатывать задержавшиеся данные\n",
    "\n",
    "Типы окон:\n",
    "- Tumbling (фиксированные без перекрытия)\n",
    "- Sliding (перекрывающиеся)\n",
    "- Session (по активности)"
   ]
  },
  {
   "cell_type": "markdown",
   "id": "b8b040dd-a660-4721-8ca2-4278711ec51c",
   "metadata": {},
   "source": [
    "#### Интеграция с Kafka "
   ]
  },
  {
   "cell_type": "markdown",
   "id": "35fb24d9-0e17-4ef7-ad48-6c887ac7611c",
   "metadata": {},
   "source": [
    "Чтение данных из Kafka\n",
    "```\n",
    "df = spark \\\n",
    "    .readStream \\\n",
    "    .format(\"kafka\") \\\n",
    "    .option(\"kafka.bootstrap.servers\", \"host1:port1,host2:port2\") \\\n",
    "    .option(\"subscribe\", \"topic1\") \\\n",
    "    .load()\n",
    "\n",
    "# Парсинг JSON-сообщений\n",
    "from pyspark.sql.functions import from_json\n",
    "\n",
    "json_schema = StructType([...])  # Определите схему JSON\n",
    "parsed_df = df.select(\n",
    "    from_json(col(\"value\").cast(\"string\"), json_schema).alias(\"data\")\n",
    ").select(\"data.*\")\n",
    "```\n",
    "\n",
    "Запись в Kafka\n",
    "```\n",
    "query = processed_df \\\n",
    "    .selectExpr(\"to_json(struct(*)) AS value\") \\\n",
    "    .writeStream \\\n",
    "    .format(\"kafka\") \\\n",
    "    .option(\"kafka.bootstrap.servers\", \"kafka:9092\") \\\n",
    "    .option(\"topic\", \"output_topic\") \\\n",
    "    .option(\"checkpointLocation\", \"/path/to/checkpoint\") \\\n",
    "    .start()\n",
    "```"
   ]
  },
  {
   "cell_type": "markdown",
   "id": "198bf43a-a6fb-4b86-8a9b-2e9b4907616f",
   "metadata": {},
   "source": [
    "Управление состоянием и чекпоинты. Настройка чекпоинтов.\n",
    "```\n",
    "query = df.writeStream \\\n",
    "    .outputMode(\"append\") \\\n",
    "    .format(\"parquet\") \\\n",
    "    .option(\"path\", \"output_path\") \\\n",
    "    .option(\"checkpointLocation\", \"checkpoint_dir\") \\  # Обязательно!\n",
    "    .start()\n",
    "```\n",
    "\n",
    "Восстановление после сбоев  \n",
    "Точный контроль над смещениями (offsets)  \n",
    "Управление состоянием агрегаций"
   ]
  },
  {
   "cell_type": "markdown",
   "id": "562a56e6-1197-4a82-b536-bd27b2638be0",
   "metadata": {
    "vscode": {
     "languageId": "plaintext"
    }
   },
   "source": [
    "## 3.3. Оптимизация запросов (Explain, Tungsten)"
   ]
  },
  {
   "cell_type": "markdown",
   "id": "f8600cc7-9f2d-4249-8c01-d483eebb8a4c",
   "metadata": {},
   "source": [
    "Внутренняя архитектура Spark SQL. Tungsten Engine - проект оптимизации выполнения запросов на уровне JVM.  \n",
    "- Бинарное хранение данных: Работа с памятью без сериализации\n",
    "- Кодогенерация: Генерация специализированного байт-кода для операций\n",
    "- Оптимизация кеширования: Эффективное использование CPU cache\n",
    "\n",
    "Catalyst Optimizer - оптимизатор запросов, который:\n",
    "- Анализирует логический план\n",
    "- Применяет правила оптимизации\n",
    "- Генерирует физический план выполнения"
   ]
  },
  {
   "cell_type": "markdown",
   "id": "fac1787a-c7ae-4872-ac36-94e857011807",
   "metadata": {},
   "source": [
    "Анализ планов выполнения. Просмотр плана запроса.\n",
    "```\n",
    "df = spark.table(\"sales\")\n",
    "\n",
    "# Логический план\n",
    "df.filter(df.amount > 100).select(\"product\").explain()\n",
    "\n",
    "# Физический план\n",
    "df.filter(df.amount > 100).select(\"product\").explain(True\n",
    "```\n",
    "Пример вывода:  \n",
    "== Physical Plan ==  \n",
    "*(1) Project [product#12]  \n",
    "+- *(1) Filter (isnotnull(amount#10) AND (amount#10 > 100))  \n",
    "   +- *(1) ColumnarToRow  \n",
    "      +- FileScan parquet [product#12,amount#10]  "
   ]
  },
  {
   "cell_type": "markdown",
   "id": "cd5a524c-e3fb-4652-90c6-87bab4f4a9bc",
   "metadata": {},
   "source": [
    "Ключевые элементы плана\n",
    "| Оператор | Описание | Проблемы |\n",
    "| - | - | - |\n",
    "| FileScan | Чтение данных из файла | Медленный источник |\n",
    "| Filter | Фильтрация строк | Неселективные фильтры |\n",
    "| Project | Выбор колонок | Избыточные колонки |\n",
    "| HashAggregate | Агрегация с хешированием | Большие данные для агрегации |\n",
    "| SortMergeJoin | Соединение с сортировкой | Ресурсоёмкая операция |"
   ]
  },
  {
   "cell_type": "markdown",
   "id": "bf856b9b-69c7-4dd4-b1c3-0985e257d618",
   "metadata": {},
   "source": [
    "#### Оптимизация запросов"
   ]
  },
  {
   "cell_type": "markdown",
   "id": "3ed0bdd3-86c5-4230-97af-6590d22d92e0",
   "metadata": {},
   "source": [
    "Оптимизация фильтрации. Плохо  \n",
    "```\n",
    "df.filter((df.amount > 100) | (df.price < 10))  # OR-условие\n",
    "```\n",
    "Хорошо\n",
    "```\n",
    "df.filter(df.amount > 100).union(df.filter(df.price < 10))\n",
    "```\n",
    "\n",
    "Оптимизация JOIN\n",
    "```\n",
    "# Автоматическая оптимизация маленьких таблиц\n",
    "spark.conf.set(\"spark.sql.autoBroadcastJoinThreshold\", \"10MB\")\n",
    "\n",
    "# Принудительный broadcast\n",
    "from pyspark.sql.functions import broadcast\n",
    "df1.join(broadcast(df2), \"key\")\n",
    "```\n",
    "\n",
    "Партиционирование для агрегаций\n",
    "```\n",
    "spark.conf.set(\"spark.sql.shuffle.partitions\", \"200\")  # По умолчанию 200\n",
    "\n",
    "# Ручное управление партициями перед группировкой\n",
    "df.repartition(100, \"department\").groupBy(\"department\").count()\n",
    "```"
   ]
  },
  {
   "cell_type": "markdown",
   "id": "abf98d1b-1d39-4cd5-9b81-08beb256d26c",
   "metadata": {},
   "source": [
    "#### Мониторинг производительности."
   ]
  },
  {
   "cell_type": "markdown",
   "id": "3814474c-b573-48cf-98d9-4a4b5cb231bd",
   "metadata": {},
   "source": [
    "Spark UI доступен по адресу http://localhost:4040:\n",
    "- Вкладка SQL/DataFrame: Время выполнения запросов\n",
    "- Вкладка Stages: Детализация по стадиям выполнения\n",
    "- Вкладка Storage: Кэшированные данные\n",
    "\n",
    "Анализ через API  \n",
    "```\n",
    "# Получить информацию о задании\n",
    "spark.sparkContext.statusTracker().getJobInfo(jobId)\n",
    "\n",
    "# Просмотр метрик\n",
    "spark.sparkContext.uiWebUrl\n",
    "```"
   ]
  },
  {
   "cell_type": "markdown",
   "id": "29166439-7e38-4af6-a0b7-d883fc302172",
   "metadata": {
    "vscode": {
     "languageId": "plaintext"
    }
   },
   "source": [
    "## 3.4. Работа с GraphFrames"
   ]
  },
  {
   "cell_type": "markdown",
   "id": "40889469-136d-44ce-ad33-3eb3fa737cce",
   "metadata": {},
   "source": [
    "**GraphFrames** — это библиотека для распределённой обработки графов в Spark, которая предоставляет API для анализа связей между данными.\n",
    "\n",
    "Установка и настройка GraphFrames  \n",
    "`pip install graphframes`\n",
    "\n"
   ]
  },
  {
   "cell_type": "code",
   "execution_count": 2,
   "id": "7a5e5f81-9ee5-463a-8026-0c2622e31df2",
   "metadata": {},
   "outputs": [],
   "source": [
    "# Инициализация Spark с поддержкой GraphFrames\n",
    "from graphframes import *\n",
    "\n",
    "#spark = SparkSession.builder \\\n",
    "#    .appName(\"GraphFrames\") \\\n",
    "#    .config(\"spark.jars.packages\", \"graphframes:graphframes:0.8.2-spark3.2-s_2.12\") \\\n",
    "#    .getOrCreate()\n",
    "\n",
    "spark = SparkSession.builder \\\n",
    "    .appName(\"GraphFrames\") \\\n",
    "    .master(\"local[*]\") \\\n",
    "    .config(\"spark.driver.host\", \"localhost\") \\\n",
    "    .config(\"spark.jars.packages\", \"graphframes:graphframes\") \\\n",
    "    .config(\"spark.executor.memory\", \"2g\") \\\n",
    "    .getOrCreate()"
   ]
  },
  {
   "cell_type": "markdown",
   "id": "161432be-ab7e-4720-96d9-428e5839cf99",
   "metadata": {},
   "source": [
    "#### Создание графа"
   ]
  },
  {
   "cell_type": "markdown",
   "id": "6b4bfb71-a944-4c80-8721-c76798785db4",
   "metadata": {},
   "source": [
    "Граф состоит из вершин (vertices) и рёбер (edges)."
   ]
  },
  {
   "cell_type": "code",
   "execution_count": 3,
   "id": "132ca512-7722-4bc1-b8ec-1583f268a151",
   "metadata": {},
   "outputs": [
    {
     "name": "stdout",
     "output_type": "stream",
     "text": [
      "+---+-------+---+\n",
      "| id|   name|age|\n",
      "+---+-------+---+\n",
      "| u1|  Alice| 28|\n",
      "| u2|    Bob| 32|\n",
      "| u3|Charlie| 45|\n",
      "+---+-------+---+\n",
      "\n",
      "+---+---+------------+\n",
      "|src|dst|relationship|\n",
      "+---+---+------------+\n",
      "| u1| u2|      follow|\n",
      "| u2| u3|      follow|\n",
      "| u3| u1|      follow|\n",
      "| u1| u3|     message|\n",
      "+---+---+------------+\n",
      "\n"
     ]
    }
   ],
   "source": [
    "# Подготовка данных\n",
    "\n",
    "# Вершины (пользователи)\n",
    "vertices = spark.createDataFrame([\n",
    "    (\"u1\", \"Alice\", 28),\n",
    "    (\"u2\", \"Bob\", 32),\n",
    "    (\"u3\", \"Charlie\", 45)\n",
    "], [\"id\", \"name\", \"age\"])\n",
    "\n",
    "# Рёбра (взаимодействия)\n",
    "edges = spark.createDataFrame([\n",
    "    (\"u1\", \"u2\", \"follow\"),\n",
    "    (\"u2\", \"u3\", \"follow\"),\n",
    "    (\"u3\", \"u1\", \"follow\"),\n",
    "    (\"u1\", \"u3\", \"message\")\n",
    "], [\"src\", \"dst\", \"relationship\"])\n",
    "\n",
    "vertices.show()\n",
    "edges.show()"
   ]
  },
  {
   "cell_type": "markdown",
   "id": "da1903be-5197-44e4-ad44-f0e18a112a0a",
   "metadata": {},
   "source": [
    "Построение графа `graph = GraphFrame(vertices, edges)`"
   ]
  },
  {
   "cell_type": "markdown",
   "id": "5a098c21-87f9-4e4e-82e6-10a7b2585856",
   "metadata": {},
   "source": [
    "#### Визуализация графа (для небольших данных)"
   ]
  },
  {
   "cell_type": "code",
   "execution_count": 4,
   "id": "fc0c42db-9ce9-481f-9068-cfd6ee2bac2e",
   "metadata": {},
   "outputs": [
    {
     "data": {
      "image/png": "[encoded data removed]",
      "text/plain": [
       "<Figure size 640x480 with 1 Axes>"
      ]
     },
     "metadata": {},
     "output_type": "display_data"
    }
   ],
   "source": [
    "import networkx as nx\n",
    "import matplotlib.pyplot as plt\n",
    "\n",
    "# Конвертация в NetworkX (только для маленьких графов!)\n",
    "nx_graph = nx.Graph()\n",
    "for row in edges.collect():\n",
    "    nx_graph.add_edge(row[\"src\"], row[\"dst\"])\n",
    "\n",
    "nx.draw(nx_graph, with_labels=True)\n",
    "plt.show()"
   ]
  },
  {
   "cell_type": "markdown",
   "id": "57cda4d3-a707-4743-98f1-46a4a9fff3da",
   "metadata": {},
   "source": [
    "#### Основные операции"
   ]
  },
  {
   "cell_type": "markdown",
   "id": "7c79b1af-63c2-4ed0-89b6-f36e53d57797",
   "metadata": {},
   "source": [
    "Найти всех, кого читает пользователь u1  \n",
    "`followers = graph.edges.filter(\"src = 'u1' AND relationship = 'follow'\")`\n",
    "\n",
    "Количество исходящих связей для каждой вершины  \n",
    "`out_degrees = graph.outDegrees`\n",
    "\n",
    "Топ-3 самых \"популярных\" пользователей  \n",
    "`graph.inDegrees.orderBy(\"inDegree\", ascending=False).show(3)`\n",
    "\n",
    "Найти все пути длиной до 2 шагов от u1\n",
    "```\n",
    "paths = graph.bfs(\n",
    "    fromExpr=\"id = 'u1'\",\n",
    "    toExpr=\"id = 'u3'\",\n",
    "    maxPathLength=2\n",
    ")\n",
    "```"
   ]
  },
  {
   "cell_type": "markdown",
   "id": "c03ffd94-f71f-48b3-b518-ff75d8e0d8e7",
   "metadata": {},
   "source": [
    "#### Алгоритмы анализа графов"
   ]
  },
  {
   "cell_type": "markdown",
   "id": "fa5e4697-bc88-44da-b990-e3cac6dfb790",
   "metadata": {},
   "source": [
    "PageRank — определение важности вершин\n",
    "```\n",
    "results = graph.pageRank(resetProbability=0.15, maxIter=10)\n",
    "results.vertices.orderBy(\"pagerank\", ascending=False).show()\n",
    "```\n",
    "\n",
    "Поиск сообществ (LPA)\n",
    "```\n",
    "communities = graph.labelPropagation(maxIter=5)\n",
    "communities.groupBy(\"label\").count().orderBy(\"count\").show()\n",
    "```\n",
    "\n",
    "Поиск связных компонентов\n",
    "```\n",
    "sc.setCheckpointDir(\"/tmp\")  # Необходимо для больших графов\n",
    "graph.connectedComponents().show()\n",
    "```"
   ]
  },
  {
   "cell_type": "markdown",
   "id": "f8e0ca09-595b-4c44-b6b6-433f30f384e7",
   "metadata": {
    "vscode": {
     "languageId": "plaintext"
    }
   },
   "source": [
    "## 3.5. Интеграция с Python (Pandas, NumPy)"
   ]
  },
  {
   "cell_type": "markdown",
   "id": "e9523c67-33e1-4bc3-a62e-0168ea5bde05",
   "metadata": {},
   "source": [
    "#### Конвертация между PySpark и Pandas DataFrame"
   ]
  },
  {
   "cell_type": "markdown",
   "id": "622644fb-e433-4fab-987c-16a6dd7d3910",
   "metadata": {},
   "source": [
    "Преобразование PySpark → Pandas\n",
    "\n",
    "```\n",
    "# Для небольших данных (помещающихся в память)\n",
    "pandas_df = spark_df.toPandas()\n",
    "\n",
    "# Для больших данных - партиционированное преобразование\n",
    "pandas_dfs = []\n",
    "for partition in spark_df.rdd.mapPartitions(lambda x: [list(x)]).collect():\n",
    "    pandas_dfs.append(pd.DataFrame(partition))\n",
    "combined_pandas_df = pd.concat(pandas_dfs)\n",
    "```\n",
    "\n",
    "Преобразование Pandas → PySpark\n",
    "```\n",
    "from pyspark.sql.types import *\n",
    "\n",
    "# Автоматическое определение схемы\n",
    "spark_df = spark.createDataFrame(pandas_df)\n",
    "\n",
    "# Ручное указание схемы (рекомендуется для сложных структур)\n",
    "schema = StructType([\n",
    "    StructField(\"name\", StringType(), True),\n",
    "    StructField(\"age\", IntegerType(), True)\n",
    "])\n",
    "spark_df = spark.createDataFrame(pandas_df, schema=schema)\n",
    "```"
   ]
  },
  {
   "cell_type": "markdown",
   "id": "e913d8db-781a-42c7-8a29-a3b742f24a63",
   "metadata": {},
   "source": [
    "📌 Важно: toPandas() загружает все данные в память драйвера — используйте только для небольших датасетов (<1 ГБ)."
   ]
  },
  {
   "cell_type": "markdown",
   "id": "8a70cb20-7ec8-4841-918a-30a7cf629fd8",
   "metadata": {},
   "source": [
    "#### Использование Pandas UDF (векторизованные функции)"
   ]
  },
  {
   "cell_type": "markdown",
   "id": "ddc12f1a-2069-4897-905e-211e630f42ee",
   "metadata": {},
   "source": [
    "Scalar Pandas UDF\n",
    "```\n",
    "from pyspark.sql.functions import pandas_udf\n",
    "import pandas as pd\n",
    "\n",
    "@pandas_udf(\"double\")\n",
    "def squared(s: pd.Series) -> pd.Series:\n",
    "    return s ** 2\n",
    "\n",
    "df = df.withColumn(\"age_squared\", squared(df[\"age\"]))\n",
    "```\n",
    "\n",
    "Grouped Map Pandas UDF\n",
    "```\n",
    "@pandas_udf(df.schema)\n",
    "def subtract_mean(pdf: pd.DataFrame) -> pd.DataFrame:\n",
    "    return pdf.assign(age=pdf[\"age\"] - pdf[\"age\"].mean())\n",
    "\n",
    "df.groupBy(\"department\").applyInPandas(subtract_mean, schema=df.schema)\n",
    "```"
   ]
  },
  {
   "cell_type": "markdown",
   "id": "aa1f33db-64f6-41a5-b790-824c4caf61e6",
   "metadata": {},
   "source": [
    "#### Интеграция с NumPy"
   ]
  },
  {
   "cell_type": "markdown",
   "id": "a091e029-75e6-4f51-b7ce-84998c869f0a",
   "metadata": {},
   "source": [
    "Конвертация RDD ↔ NumPy\n",
    "```\n",
    "# PySpark RDD to NumPy\n",
    "rdd = spark.sparkContext.parallelize([[1, 2], [3, 4]])\n",
    "numpy_array = np.array(rdd.collect())\n",
    "\n",
    "# NumPy to PySpark RDD\n",
    "numpy_data = np.random.rand(100, 3)\n",
    "rdd = spark.sparkContext.parallelize(numpy_data.tolist())\n",
    "```\n",
    "\n",
    "Оптимизированные операции\n",
    "```\n",
    "from pyspark.ml.linalg import Vectors\n",
    "\n",
    "# Создание распределённой матрицы\n",
    "matrix_rdd = rdd.map(lambda x: Vectors.dense(x))\n",
    "```"
   ]
  }
 ],
 "metadata": {
  "kernelspec": {
   "display_name": "Python 3 (ipykernel)",
   "language": "python",
   "name": "python3"
  },
  "language_info": {
   "codemirror_mode": {
    "name": "ipython",
    "version": 3
   },
   "file_extension": ".py",
   "mimetype": "text/x-python",
   "name": "python",
   "nbconvert_exporter": "python",
   "pygments_lexer": "ipython3",
   "version": "3.11.9"
  }
 },
 "nbformat": 4,
 "nbformat_minor": 5
}
