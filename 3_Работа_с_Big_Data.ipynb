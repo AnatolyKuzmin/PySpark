{
 "cells": [
  {
   "cell_type": "markdown",
   "id": "78e6ee05-e059-483a-b852-1906627036a6",
   "metadata": {},
   "source": [
    "# 3. Работа с Big Data"
   ]
  },
  {
   "cell_type": "code",
   "execution_count": 1,
   "id": "f7391b90-7358-4a3d-b1e3-53886385cbd2",
   "metadata": {},
   "outputs": [],
   "source": [
    "import os\n",
    "os.environ['PYSPARK_PYTHON'] = 'python'\n",
    "os.environ['HADOOP_USER_NAME'] = 'root'  # Обход проверки пользователя\n",
    "\n",
    "from pyspark.sql import SparkSession\n",
    "from pyspark.sql.functions import *\n",
    "\n",
    "spark = SparkSession.builder \\\n",
    "    .appName(\"Test\") \\\n",
    "    .master(\"local[*]\") \\\n",
    "    .config(\"spark.driver.host\", \"localhost\") \\\n",
    "    .config(\"spark.executor.memory\", \"2g\") \\\n",
    "    .getOrCreate()"
   ]
  },
  {
   "cell_type": "markdown",
   "id": "9ba58bc2-63a0-47f3-9b0b-57068a6056c7",
   "metadata": {
    "vscode": {
     "languageId": "plaintext"
    }
   },
   "source": [
    "## 3.1. Spark SQL (каталог, метаданные)"
   ]
  },
  {
   "cell_type": "markdown",
   "id": "45ce2e8b-a799-4591-a1d4-c176dd1e9b5c",
   "metadata": {},
   "source": [
    "Каталог (Catalog) — это абстракция в Spark SQL, которая предоставляет API для:\n",
    "- Управления базами данных (databases)\n",
    "- Работы с таблицами (tables)\n",
    "- Доступа к представлениям (views)\n",
    "- Хранения метаданных (схем, типов данных, партиций)"
   ]
  },
  {
   "cell_type": "markdown",
   "id": "4fb18116-56e7-41d1-ac98-ca4854eeeb79",
   "metadata": {},
   "source": [
    "Встроенный каталог vs Hive Metastore\n",
    "| Особенность | Встроенный каталог | Hive Metastore |\n",
    "|- |- |- |\n",
    "| Где хранятся метаданные? | В памяти (исчезают после завершения сессии) | Во внешней БД (MySQL, PostgreSQL) |\n",
    "| Когда использовать? | Для временных таблиц | Для постоянных таблиц в продакшене |\n",
    "| Доступ из других приложений | Нет| Да (через Hive, Impala и др.) |"
   ]
  },
  {
   "cell_type": "markdown",
   "id": "ff2b2d09-4b7e-4dad-bf76-71bca44ebe4f",
   "metadata": {},
   "source": [
    "Работа с каталогом через SparkSession"
   ]
  },
  {
   "cell_type": "markdown",
   "id": "e373ca66-f5db-4361-927b-d21f6d9f48cb",
   "metadata": {},
   "source": [
    "Показать все базы данных\n",
    "`spark.catalog.listDatabases()`  \n",
    "Показать все таблицы в текущей БД\n",
    "`spark.catalog.listTables()`  \n",
    "Показать все колонки таблицы\n",
    "`spark.catalog.listColumns(df_Titanic)`"
   ]
  },
  {
   "cell_type": "markdown",
   "id": "bf8cb221-2ad3-45d3-8094-06059477af2f",
   "metadata": {},
   "source": [
    "Создание и управление базами данных\n",
    "Создать новую БД\n",
    "`spark.sql(\"CREATE DATABASE IF NOT EXISTS my_db\")`  \n",
    "Переключиться на БД\n",
    "`spark.catalog.setCurrentDatabase(\"my_db\")`  \n",
    "Удалить БД (осторожно!)\n",
    "`spark.sql(\"DROP DATABASE IF EXISTS my_db CASCADE\")`"
   ]
  },
  {
   "cell_type": "markdown",
   "id": "3bb28f13-4a62-4492-9c56-b2913ede84d6",
   "metadata": {},
   "source": [
    "Временные vs постоянные таблицы\n",
    "\n",
    "| Тип | Временная таблица | Постоянная таблица |\n",
    "|- |- |- |\n",
    "| Видимость | Только в текущей сессии Spark | Доступна всем сессиям |\n",
    "| Хранение метаданных | В памяти | В Hive Metastore |\n",
    "| Хранение данных | Зависит от источника| Сохраняется на HDFS/S3 |"
   ]
  },
  {
   "cell_type": "markdown",
   "id": "b02d6285-2b9d-45f5-a8c9-6f90330e7287",
   "metadata": {},
   "source": [
    "Временная таблица (исчезнет после завершения сессии)\n",
    "`df.createOrReplaceTempView(\"temp_titanic\")`  \n",
    "Постоянная таблица (сохранится в каталоге Hive)\n",
    "`df.write.saveAsTable(\"perm_titanic\")`"
   ]
  },
  {
   "cell_type": "markdown",
   "id": "e01527e1-9d7c-44d6-a724-4b5103347e58",
   "metadata": {},
   "source": [
    "***VIEW*** — это виртуальная таблица (запрос не выполняется, пока не вызвана).\n",
    "***TABLE*** — материализованные данные."
   ]
  },
  {
   "cell_type": "markdown",
   "id": "db61725a-a830-43b6-b175-a9813bee8278",
   "metadata": {},
   "source": [
    "```\n",
    "# Временное представление\n",
    "spark.sql(\"\"\"\n",
    "    CREATE OR REPLACE TEMP VIEW adult_passengers AS\n",
    "    SELECT * FROM titanic WHERE Age >= 18\n",
    "\"\"\")\n",
    "\n",
    "# Постоянное представление (требует Hive)\n",
    "spark.sql(\"\"\"\n",
    "    CREATE OR REPLACE VIEW perm_adult_passengers AS\n",
    "    SELECT * FROM titanic WHERE Age >= 18\n",
    "\"\"\")\n",
    "```"
   ]
  },
  {
   "cell_type": "code",
   "execution_count": 5,
   "id": "cc8094ed-82e3-49ee-b542-257a31fa8d9b",
   "metadata": {},
   "outputs": [],
   "source": [
    "# Чтение таблицы из Hive\n"
   ]
  },
  {
   "cell_type": "code",
   "execution_count": null,
   "id": "417c366e-61f2-4237-a0d7-e232473698ea",
   "metadata": {},
   "outputs": [],
   "source": []
  },
  {
   "cell_type": "code",
   "execution_count": null,
   "id": "238e5908-ddfb-4278-bd72-4279810b1bb5",
   "metadata": {},
   "outputs": [],
   "source": []
  },
  {
   "cell_type": "markdown",
   "id": "bbe87172-f728-4f1d-bc6f-2591081d0c94",
   "metadata": {
    "vscode": {
     "languageId": "plaintext"
    }
   },
   "source": [
    "## 3.2. Structured Streaming (основы)"
   ]
  },
  {
   "cell_type": "markdown",
   "id": "b6c950a1-8374-4a6f-baf0-2c7438ec5b90",
   "metadata": {
    "vscode": {
     "languageId": "plaintext"
    }
   },
   "source": [
    "## 3.2. Structured Streaming (основы)"
   ]
  },
  {
   "cell_type": "markdown",
   "id": "562a56e6-1197-4a82-b536-bd27b2638be0",
   "metadata": {
    "vscode": {
     "languageId": "plaintext"
    }
   },
   "source": [
    "## 3.3. Оптимизация запросов (Explain, Tungsten)"
   ]
  },
  {
   "cell_type": "markdown",
   "id": "29166439-7e38-4af6-a0b7-d883fc302172",
   "metadata": {
    "vscode": {
     "languageId": "plaintext"
    }
   },
   "source": [
    "## 3.4. Работа с GraphFrames"
   ]
  },
  {
   "cell_type": "markdown",
   "id": "f8e0ca09-595b-4c44-b6b6-433f30f384e7",
   "metadata": {
    "vscode": {
     "languageId": "plaintext"
    }
   },
   "source": [
    "## 3.5. Интеграция с Python (Pandas, NumPy)"
   ]
  },
  {
   "cell_type": "code",
   "execution_count": 3,
   "id": "48e73e14-e327-41af-afd0-c3cdbb0766a3",
   "metadata": {},
   "outputs": [],
   "source": [
    "spark.stop()"
   ]
  }
 ],
 "metadata": {
  "kernelspec": {
   "display_name": "Python 3 (ipykernel)",
   "language": "python",
   "name": "python3"
  },
  "language_info": {
   "codemirror_mode": {
    "name": "ipython",
    "version": 3
   },
   "file_extension": ".py",
   "mimetype": "text/x-python",
   "name": "python",
   "nbconvert_exporter": "python",
   "pygments_lexer": "ipython3",
   "version": "3.11.9"
  }
 },
 "nbformat": 4,
 "nbformat_minor": 5
}
