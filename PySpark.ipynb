{
 "cells": [
  {
   "cell_type": "markdown",
   "id": "2eed5c8f-c158-4050-a66b-fecbbf96c56c",
   "metadata": {},
   "source": [
    "### Spark и первая программа"
   ]
  },
  {
   "cell_type": "markdown",
   "id": "a5684c91-de14-41c1-bee6-40cb51e80b45",
   "metadata": {},
   "source": [
    "#### Установка PySpark"
   ]
  },
  {
   "cell_type": "markdown",
   "id": "7152945b-93f4-4d01-bcb8-66132a238960",
   "metadata": {},
   "source": [
    "устновка PySpark\n",
    "`pip install pyspark`\n",
    "проверка\n",
    "`pip list`"
   ]
  },
  {
   "cell_type": "code",
   "execution_count": 1,
   "id": "877ea2af-4e00-4140-afdb-d8757efbcc35",
   "metadata": {},
   "outputs": [
    {
     "name": "stdout",
     "output_type": "stream",
     "text": [
      "Python: 3.11.9 (tags/v3.11.9:de54cf5, Apr  2 2024, 10:12:12) [MSC v.1938 64 bit (AMD64)]\n",
      "VenV: True\n",
      "+-----+\n",
      "|value|\n",
      "+-----+\n",
      "|   10|\n",
      "|   20|\n",
      "|   30|\n",
      "|   40|\n",
      "+-----+\n",
      "\n"
     ]
    }
   ],
   "source": [
    "from pyspark.sql import SparkSession\n",
    "import sys\n",
    "\n",
    "# Проверка версий\n",
    "print(f\"Python: {sys.version}\")\n",
    "print(f\"VenV: {sys.prefix != sys.base_prefix}\")  # Проверим, что в VENV\n",
    "\n",
    "# Инициализация Spark\n",
    "spark = SparkSession.builder \\\n",
    "    .appName(\"PySpark 3.11 Test\") \\\n",
    "    .getOrCreate()\n",
    "\n",
    "# Тестовый расчет\n",
    "df = spark.range(1, 5)\n",
    "df.selectExpr(\"id * 10 as value\").show()"
   ]
  },
  {
   "cell_type": "code",
   "execution_count": null,
   "id": "e0e64bab-868f-4782-8fcd-adf7feea4c9b",
   "metadata": {},
   "outputs": [],
   "source": []
  },
  {
   "cell_type": "code",
   "execution_count": null,
   "id": "ecc84706-0280-4596-a719-679371dd73d7",
   "metadata": {},
   "outputs": [],
   "source": []
  }
 ],
 "metadata": {
  "kernelspec": {
   "display_name": "Python 3 (ipykernel)",
   "language": "python",
   "name": "python3"
  },
  "language_info": {
   "codemirror_mode": {
    "name": "ipython",
    "version": 3
   },
   "file_extension": ".py",
   "mimetype": "text/x-python",
   "name": "python",
   "nbconvert_exporter": "python",
   "pygments_lexer": "ipython3",
   "version": "3.11.9"
  }
 },
 "nbformat": 4,
 "nbformat_minor": 5
}
